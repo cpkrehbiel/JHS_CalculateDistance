{
 "cells": [
  {
   "cell_type": "markdown",
   "metadata": {},
   "source": [
    "# This is a Jupyter Notebook\n",
    "## Below we will show how to calculate distance using `Python`! \n",
    "### Python is a commonly used programming language (not a type of snake!)."
   ]
  },
  {
   "cell_type": "markdown",
   "metadata": {},
   "source": [
    "- Below, use the lat/lon (x1,y1 and x2,y2) coordinates from your Airplane throw to convert from latitude/longitude in _decimal degrees_ to UTM Zone 14N in _meters_.   \n",
    "- After that, use the distance formula to determine how far your paper airplane traveled.   \n",
    "- BONUS: Use the distance and your height (in m) to calculate the exact distance from where you threw the Airplane, to where it landed, using Pythagorean's Theorum."
   ]
  },
  {
   "cell_type": "markdown",
   "metadata": {},
   "source": [
    "### Instructions:\n",
    "#### To execute the code below, click anywhere on a cell, and hit `shift` + `enter` at the same time. \n",
    "\n",
    "#### This should execute the code block and advance it to the next cell. \n",
    "\n",
    "#### After executing the tutorial using `shift` + `enter` circle back and try swapping out the `x1` and `y1`and `x2` and `y2` values with your own values! "
   ]
  },
  {
   "cell_type": "markdown",
   "metadata": {},
   "source": [
    "## Add your starting and ending coordinates as `variables`."
   ]
  },
  {
   "cell_type": "code",
   "execution_count": 1,
   "metadata": {},
   "outputs": [
    {
     "name": "stdout",
     "output_type": "stream",
     "text": [
      "I threw my airplane at 43.572614652130184, -96.75372516671789\n"
     ]
    }
   ],
   "source": [
    "# Starting Location in decimal degrees\n",
    "x1 = -96.75372516671789\n",
    "y1 = 43.572614652130184\n",
    "print(f\"I threw my airplane at {y1}, {x1}\")"
   ]
  },
  {
   "cell_type": "code",
   "execution_count": 2,
   "metadata": {},
   "outputs": [
    {
     "name": "stdout",
     "output_type": "stream",
     "text": [
      "My airplane landed at 43.5727793088737, -96.75350228288201\n"
     ]
    }
   ],
   "source": [
    "# Ending Location in decimal degrees\n",
    "x2 = -96.75350228288201\n",
    "y2 = 43.5727793088737\n",
    "print(f\"My airplane landed at {y2}, {x2}\")"
   ]
  },
  {
   "cell_type": "markdown",
   "metadata": {},
   "source": [
    "## Convert from Decimal Degrees to Meters in the UTM Projection"
   ]
  },
  {
   "cell_type": "code",
   "execution_count": 3,
   "metadata": {},
   "outputs": [
    {
     "name": "stdout",
     "output_type": "stream",
     "text": [
      "I threw my airplane at 4826857.270036629, 681383.1880598302\n"
     ]
    }
   ],
   "source": [
    "# Import a Python Package that will perform the conversion for us!\n",
    "from pyproj import Proj\n",
    "myProj = Proj(\"+proj=utm +zone=14, +north +datum=WGS84 +units=m +no_defs\")  # Define UTM Zone 14 North (over Sioux Falls)\n",
    "x1_meters, y1_meters = myProj(x1, y1)                                       # Call the function to perform conversion\n",
    "print(f\"I threw my airplane at {y1_meters}, {x1_meters}\")                   # Print Results"
   ]
  },
  {
   "cell_type": "code",
   "execution_count": 4,
   "metadata": {},
   "outputs": [
    {
     "name": "stdout",
     "output_type": "stream",
     "text": [
      "I threw my airplane at 4826876.044079258, 681400.6915708861\n"
     ]
    }
   ],
   "source": [
    "# Now do the same for the ending location\n",
    "x2_meters, y2_meters = myProj(x2, y2)                                      \n",
    "print(f\"I threw my airplane at {y2_meters}, {x2_meters}\")                   "
   ]
  },
  {
   "cell_type": "markdown",
   "metadata": {},
   "source": [
    "## Use the Distance Formula to Calculate Euclidean distance travelled by your airplane"
   ]
  },
  {
   "cell_type": "code",
   "execution_count": 5,
   "metadata": {},
   "outputs": [
    {
     "name": "stdout",
     "output_type": "stream",
     "text": [
      "My paper airplane flew 25.667831538840705 meters!\n"
     ]
    }
   ],
   "source": [
    "import numpy as np\n",
    "\n",
    "# Calculate distance formula\n",
    "distance = np.sqrt(((x2_meters-x1_meters)**2)+((y2_meters-y1_meters)**2))\n",
    "print(f\"My paper airplane flew {distance} meters!\")"
   ]
  },
  {
   "cell_type": "markdown",
   "metadata": {},
   "source": [
    "## Let's take it one step further: In order to maximize my distance, I first climbed up on top of a 5 m ladder. Below, use `Pythagorean's Theorum` to calculate `c` given:\n",
    "### `b` (distance calculated above) \n",
    "### `a` (ladder height).\n",
    "# Pythagorean's Theorum:\n",
    "> $a^{2}$ + $b^{2}$ = $c^{2}$"
   ]
  },
  {
   "cell_type": "code",
   "execution_count": 6,
   "metadata": {},
   "outputs": [],
   "source": [
    "height = 5  # Ladder Height"
   ]
  },
  {
   "cell_type": "code",
   "execution_count": 7,
   "metadata": {},
   "outputs": [
    {
     "data": {
      "text/plain": [
       "25"
      ]
     },
     "execution_count": 7,
     "metadata": {},
     "output_type": "execute_result"
    }
   ],
   "source": [
    "height**2  # Height squared"
   ]
  },
  {
   "cell_type": "code",
   "execution_count": 8,
   "metadata": {},
   "outputs": [
    {
     "data": {
      "text/plain": [
       "683.8375759063056"
      ]
     },
     "execution_count": 8,
     "metadata": {},
     "output_type": "execute_result"
    }
   ],
   "source": [
    "(height**2) + (distance**2)"
   ]
  },
  {
   "cell_type": "markdown",
   "metadata": {},
   "source": [
    "### Now take the square root of the value above to solve for `c`!"
   ]
  },
  {
   "cell_type": "code",
   "execution_count": 9,
   "metadata": {},
   "outputs": [
    {
     "name": "stdout",
     "output_type": "stream",
     "text": [
      "My paper airplane flew 26.150288256658005 meters!\n"
     ]
    }
   ],
   "source": [
    "flying_distance = np.sqrt((height**2) + (distance**2)) \n",
    "print(f\"My paper airplane flew {flying_distance} meters!\")"
   ]
  },
  {
   "cell_type": "markdown",
   "metadata": {},
   "source": [
    "## BONUS #2: Convert to feet!"
   ]
  },
  {
   "cell_type": "code",
   "execution_count": 10,
   "metadata": {},
   "outputs": [
    {
     "name": "stdout",
     "output_type": "stream",
     "text": [
      "My paper airplane flew 84.21204573110467 feet in ground distance!\n",
      "My paper airplane flew 85.79490897853675 feet in total flight distance!\n"
     ]
    }
   ],
   "source": [
    "print(f\"My paper airplane flew {distance / .3048} feet in ground distance!\")\n",
    "print(f\"My paper airplane flew {flying_distance / .3048} feet in total flight distance!\")"
   ]
  },
  {
   "cell_type": "markdown",
   "metadata": {},
   "source": [
    "# Congrats! You have successfully calculated distance in Python!"
   ]
  }
 ],
 "metadata": {
  "kernelspec": {
   "display_name": "Python 3 (ipykernel)",
   "language": "python",
   "name": "python3"
  },
  "language_info": {
   "codemirror_mode": {
    "name": "ipython",
    "version": 3
   },
   "file_extension": ".py",
   "mimetype": "text/x-python",
   "name": "python",
   "nbconvert_exporter": "python",
   "pygments_lexer": "ipython3",
   "version": "3.9.6"
  }
 },
 "nbformat": 4,
 "nbformat_minor": 2
}
